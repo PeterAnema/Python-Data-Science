{
 "cells": [
  {
   "cell_type": "code",
   "execution_count": 19,
   "metadata": {},
   "outputs": [],
   "source": [
    "import os\n",
    "import pyodbc\n",
    "import pandas as pd"
   ]
  },
  {
   "cell_type": "code",
   "execution_count": 25,
   "metadata": {},
   "outputs": [
    {
     "name": "stdout",
     "output_type": "stream",
     "text": [
      "Found /Users/peter/Computrain/Python/PythonDevV3/Sandbox/AccessDatabase.mdb\n"
     ]
    }
   ],
   "source": [
    "db_directory = '/Users/peter/Computrain/Python/PythonDevV3/Sandbox'\n",
    "db_file = 'AccessDatabase.mdb'\n",
    "db_path = '/'.join((db_directory, db_file))\n",
    "\n",
    "user = ''\n",
    "password = ''\n",
    "\n",
    "if os.path.isfile(db_path):\n",
    "    print('Found %s' % db_path)\n",
    "else:\n",
    "    print('%s does NOT exist!' % db_path)"
   ]
  },
  {
   "cell_type": "code",
   "execution_count": 27,
   "metadata": {},
   "outputs": [
    {
     "data": {
      "text/plain": [
       "'DRIVER={{Microsoft Access Driver (*.mdb, *.accdb)}};DBQ=/Users/peter/Computrain/Python/PythonDevV3/Sandbox/AccessDatabase.mdb'"
      ]
     },
     "execution_count": 27,
     "metadata": {},
     "output_type": "execute_result"
    }
   ],
   "source": [
    "# connectionstring\n",
    "connection_string = 'DRIVER={{Microsoft Access Driver (*.mdb, *.accdb)}};' + \\\n",
    "                    'DBQ=%s' % db_path\n",
    "\n",
    "if user:\n",
    "    connection_string += 'Uid={};'.format(user)\n",
    "\n",
    "if password:\n",
    "    connection_string += 'Pwd={};'.format(password)\n",
    "    \n",
    "connection_string"
   ]
  },
  {
   "cell_type": "code",
   "execution_count": 31,
   "metadata": {},
   "outputs": [
    {
     "data": {
      "text/plain": [
       "[]"
      ]
     },
     "execution_count": 31,
     "metadata": {},
     "output_type": "execute_result"
    }
   ],
   "source": [
    "[x for x in pyodbc.drivers()]"
   ]
  },
  {
   "cell_type": "code",
   "execution_count": 29,
   "metadata": {},
   "outputs": [
    {
     "ename": "Error",
     "evalue": "('01000', \"[01000] [unixODBC][Driver Manager]Can't open lib 'Microsoft Access Driver (*.mdb)' : file not found (0) (SQLDriverConnect)\")",
     "output_type": "error",
     "traceback": [
      "\u001b[0;31m---------------------------------------------------------------------------\u001b[0m",
      "\u001b[0;31mError\u001b[0m                                     Traceback (most recent call last)",
      "\u001b[0;32m<ipython-input-29-f05e8a84ee69>\u001b[0m in \u001b[0;36m<module>\u001b[0;34m()\u001b[0m\n\u001b[0;32m----> 1\u001b[0;31m \u001b[0mcnxn\u001b[0m \u001b[0;34m=\u001b[0m \u001b[0mpyodbc\u001b[0m\u001b[0;34m.\u001b[0m\u001b[0mconnect\u001b[0m\u001b[0;34m(\u001b[0m\u001b[0;34m'DRIVER={Microsoft Access Driver (*.mdb)};DBQ='\u001b[0m \u001b[0;34m+\u001b[0m \u001b[0mdb_path\u001b[0m\u001b[0;34m)\u001b[0m\u001b[0;34m\u001b[0m\u001b[0m\n\u001b[0m\u001b[1;32m      2\u001b[0m \u001b[0;31m#cnxn = pyodbc.connect(connection_string)\u001b[0m\u001b[0;34m\u001b[0m\u001b[0;34m\u001b[0m\u001b[0m\n",
      "\u001b[0;31mError\u001b[0m: ('01000', \"[01000] [unixODBC][Driver Manager]Can't open lib 'Microsoft Access Driver (*.mdb)' : file not found (0) (SQLDriverConnect)\")"
     ]
    }
   ],
   "source": [
    "cnxn = pyodbc.connect('DRIVER={Microsoft Access Driver (*.mdb)};DBQ=' + db_path)\n",
    "#cnxn = pyodbc.connect(connection_string)"
   ]
  },
  {
   "cell_type": "code",
   "execution_count": null,
   "metadata": {},
   "outputs": [],
   "source": [
    "dbFile = '/Users/peter/Computrain/Python/PythonDevV3/Sandbox/AccessDatabase.mdb'\n",
    "conn = pyodbc.connect('DRIVER={Microsoft Access Driver (*.mdb, *.accdb)};DBQ=' + dbFile)\n",
    "\n",
    "#conn = pyodbc.connect(r'DRIVER={SQL Server};SERVER= ;DATABASE=mijndatabase;UID=gebruiker;PWD=wachtwoord')\n"
   ]
  },
  {
   "cell_type": "code",
   "execution_count": null,
   "metadata": {},
   "outputs": [],
   "source": [
    "query = \"SELECT * FROM mytable WHERE INST = '796116'\"\n",
    "\n",
    "df = pd.read_sql(query, cnxn)"
   ]
  },
  {
   "cell_type": "code",
   "execution_count": null,
   "metadata": {},
   "outputs": [],
   "source": [
    "cnxn.close()"
   ]
  },
  {
   "cell_type": "code",
   "execution_count": null,
   "metadata": {},
   "outputs": [],
   "source": [
    "import pyodbc\n",
    " \n",
    "dbFile = '/Users/peter/Computrain/Python/PythonDevV3/Sandbox/AccessDatabase.mdb'\n",
    "conn = pyodbc.connect('DRIVER={Microsoft Access Driver (*.mdb, *.accdb)};DBQ=' + dbFile)\n",
    "\n",
    "#conn = pyodbc.connect(r'DRIVER={SQL Server};SERVER= ;DATABASE=mijndatabase;UID=gebruiker;PWD=wachtwoord')\n",
    "\n",
    "cursor = conn.cursor()\n",
    " \n",
    "sql = 'SELECT * FROM klanten ORDER BY naam;'\n",
    "for row in cursor.execute(sql): # cursors are iterable\n",
    "    print(\"{}, {}\".format(row.naam, row.woonplaats))\n",
    " \n",
    "conn.close()"
   ]
  },
  {
   "cell_type": "code",
   "execution_count": null,
   "metadata": {},
   "outputs": [],
   "source": []
  },
  {
   "cell_type": "code",
   "execution_count": null,
   "metadata": {},
   "outputs": [],
   "source": []
  }
 ],
 "metadata": {
  "kernelspec": {
   "display_name": "Python 3",
   "language": "python",
   "name": "python3"
  },
  "language_info": {
   "codemirror_mode": {
    "name": "ipython",
    "version": 3
   },
   "file_extension": ".py",
   "mimetype": "text/x-python",
   "name": "python",
   "nbconvert_exporter": "python",
   "pygments_lexer": "ipython3",
   "version": "3.6.4"
  }
 },
 "nbformat": 4,
 "nbformat_minor": 2
}
