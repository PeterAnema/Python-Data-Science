{
 "cells": [
  {
   "cell_type": "code",
   "execution_count": 1,
   "metadata": {},
   "outputs": [],
   "source": [
    "def maximum(a, b):\n",
    "    if a > b:\n",
    "        return a\n",
    "    else:\n",
    "        return b"
   ]
  },
  {
   "cell_type": "code",
   "execution_count": 10,
   "metadata": {},
   "outputs": [],
   "source": [
    "def maximum3(*numbers):        # variadic\n",
    "    mx = numbers[0]\n",
    "    for n in numbers:\n",
    "        if n > mx:\n",
    "            mx = n\n",
    "    return mx\n"
   ]
  },
  {
   "cell_type": "code",
   "execution_count": 2,
   "metadata": {},
   "outputs": [
    {
     "data": {
      "text/plain": [
       "6"
      ]
     },
     "execution_count": 2,
     "metadata": {},
     "output_type": "execute_result"
    }
   ],
   "source": [
    "maximum(3,6)"
   ]
  },
  {
   "cell_type": "code",
   "execution_count": 11,
   "metadata": {},
   "outputs": [
    {
     "data": {
      "text/plain": [
       "4"
      ]
     },
     "execution_count": 11,
     "metadata": {},
     "output_type": "execute_result"
    }
   ],
   "source": [
    "maximum3(*[1,2,3,4])"
   ]
  },
  {
   "cell_type": "code",
   "execution_count": 12,
   "metadata": {},
   "outputs": [
    {
     "name": "stdout",
     "output_type": "stream",
     "text": [
      "hallo 2 5 OK\n"
     ]
    }
   ],
   "source": [
    "print('hallo', 2, 5, 'OK')"
   ]
  },
  {
   "cell_type": "code",
   "execution_count": 16,
   "metadata": {},
   "outputs": [
    {
     "name": "stdout",
     "output_type": "stream",
     "text": [
      "['This', 'is', 'just', 'another', 'example']\n",
      "This is just another example\n",
      "This\n",
      "is\n",
      "just\n",
      "another\n",
      "example\n"
     ]
    }
   ],
   "source": [
    "words = 'This is just another example'.split()\n",
    "print(words)\n",
    "print(*words)\n",
    "print(*words, sep='\\n')"
   ]
  },
  {
   "cell_type": "code",
   "execution_count": 18,
   "metadata": {},
   "outputs": [
    {
     "name": "stdout",
     "output_type": "stream",
     "text": [
      "['', '/Users/peter/miniconda3/lib/python36.zip', '/Users/peter/miniconda3/lib/python3.6', '/Users/peter/miniconda3/lib/python3.6/lib-dynload', '/Users/peter/miniconda3/lib/python3.6/site-packages', '/Users/peter/miniconda3/lib/python3.6/site-packages/IPython/extensions', '/Users/peter/.ipython']\n",
      "\n",
      "/Users/peter/miniconda3/lib/python36.zip\n",
      "/Users/peter/miniconda3/lib/python3.6\n",
      "/Users/peter/miniconda3/lib/python3.6/lib-dynload\n",
      "/Users/peter/miniconda3/lib/python3.6/site-packages\n",
      "/Users/peter/miniconda3/lib/python3.6/site-packages/IPython/extensions\n",
      "/Users/peter/.ipython\n"
     ]
    }
   ],
   "source": [
    "import sys\n",
    "print(sys.path)\n",
    "print(*sys.path, sep='\\n')"
   ]
  },
  {
   "cell_type": "code",
   "execution_count": 23,
   "metadata": {},
   "outputs": [],
   "source": [
    "def increment(x, step = 1):\n",
    "    return x+step"
   ]
  },
  {
   "cell_type": "code",
   "execution_count": 26,
   "metadata": {},
   "outputs": [
    {
     "data": {
      "text/plain": [
       "14"
      ]
     },
     "execution_count": 26,
     "metadata": {},
     "output_type": "execute_result"
    }
   ],
   "source": [
    "increment(9, step = 5)"
   ]
  },
  {
   "cell_type": "code",
   "execution_count": 31,
   "metadata": {},
   "outputs": [
    {
     "name": "stdout",
     "output_type": "stream",
     "text": [
      "1\n",
      "[2, 3]\n",
      "4\n"
     ]
    }
   ],
   "source": [
    "first,*rest,last = [1,2,3,4]\n",
    "print(first)\n",
    "print(rest)\n",
    "print(last)"
   ]
  },
  {
   "cell_type": "code",
   "execution_count": 30,
   "metadata": {},
   "outputs": [
    {
     "name": "stdout",
     "output_type": "stream",
     "text": [
      "1\n",
      "2\n",
      "3\n",
      "4\n"
     ]
    }
   ],
   "source": [
    "a,b,c,d = [1,2,3,4]\n",
    "print(a)\n",
    "print(b)\n",
    "print(c)\n",
    "print(d)"
   ]
  }
 ],
 "metadata": {
  "kernelspec": {
   "display_name": "Python 3",
   "language": "python",
   "name": "python3"
  },
  "language_info": {
   "codemirror_mode": {
    "name": "ipython",
    "version": 3
   },
   "file_extension": ".py",
   "mimetype": "text/x-python",
   "name": "python",
   "nbconvert_exporter": "python",
   "pygments_lexer": "ipython3",
   "version": "3.6.5"
  }
 },
 "nbformat": 4,
 "nbformat_minor": 2
}
