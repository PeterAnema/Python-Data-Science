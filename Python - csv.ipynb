{
 "cells": [
  {
   "cell_type": "markdown",
   "metadata": {},
   "source": [
    "### Reading ca-500.csv from datasets"
   ]
  },
  {
   "cell_type": "code",
   "execution_count": 1,
   "metadata": {},
   "outputs": [],
   "source": [
    "import os"
   ]
  },
  {
   "cell_type": "code",
   "execution_count": 7,
   "metadata": {},
   "outputs": [],
   "source": [
    "filename = 'datasets/ca-500.csv'\n",
    "keyword = 'Vancouver'"
   ]
  },
  {
   "cell_type": "code",
   "execution_count": 8,
   "metadata": {},
   "outputs": [
    {
     "name": "stdout",
     "output_type": "stream",
     "text": [
      "file datasets/ca-500.csv exists\n"
     ]
    }
   ],
   "source": [
    "if os.path.exists(filename):\n",
    "    print('file %s exists' % filename)\n",
    "else:\n",
    "    print('file %s does NOT exist' % filename)"
   ]
  },
  {
   "cell_type": "code",
   "execution_count": 9,
   "metadata": {},
   "outputs": [],
   "source": [
    "def get_lines_with_keyword(filename, keyword):\n",
    "    f = open(filename)\n",
    "    for line in f:\n",
    "        if keyword in line:\n",
    "            print(line)\n",
    "    f.close()"
   ]
  },
  {
   "cell_type": "code",
   "execution_count": 10,
   "metadata": {},
   "outputs": [],
   "source": [
    "def get_lines_with_keyword(filename, keyword):\n",
    "    lines = []\n",
    "    with open(filename) as f:\n",
    "        for line in f:\n",
    "            line = line.rstrip('\\n')\n",
    "            if keyword in line:\n",
    "                lines.append(line)\n",
    "#                print(line)\n",
    "    return lines"
   ]
  },
  {
   "cell_type": "code",
   "execution_count": 11,
   "metadata": {},
   "outputs": [
    {
     "name": "stdout",
     "output_type": "stream",
     "text": [
      "318 µs ± 3.47 µs per loop (mean ± std. dev. of 7 runs, 1000 loops each)\n"
     ]
    }
   ],
   "source": [
    "%timeit get_lines_with_keyword(filename, keyword)"
   ]
  },
  {
   "cell_type": "code",
   "execution_count": 12,
   "metadata": {},
   "outputs": [],
   "source": [
    "def get_lines_with_keyword(filename, keyword):\n",
    "    with open(filename) as f:\n",
    "        for line in f:\n",
    "            line = line.rstrip('\\n')\n",
    "            if keyword in line:\n",
    "                yield line"
   ]
  },
  {
   "cell_type": "code",
   "execution_count": 13,
   "metadata": {},
   "outputs": [
    {
     "name": "stdout",
     "output_type": "stream",
     "text": [
      "326 µs ± 7.42 µs per loop (mean ± std. dev. of 7 runs, 1000 loops each)\n"
     ]
    }
   ],
   "source": [
    "%timeit list(get_lines_with_keyword(filename, keyword))"
   ]
  },
  {
   "cell_type": "code",
   "execution_count": 14,
   "metadata": {},
   "outputs": [
    {
     "data": {
      "text/plain": [
       "['\"Hannah\",\"Edmison\",\"M B A Paint Stores\",\"73 Pittsford Victor Rd\",\"Vancouver\",\"BC\",\"V5Z 3K2\",\"604-334-3686\",\"604-692-7694\",\"hannah@yahoo.com\",\"http://www.mbapaintstores.com\"',\n",
       " '\"Lauryn\",\"Randol\",\"Judy, Henry L Esq\",\"4207 Leon Rd\",\"North Vancouver\",\"BC\",\"V7L 3X6\",\"604-236-4625\",\"604-597-5482\",\"lauryn@yahoo.com\",\"http://www.judyhenrylesq.com\"',\n",
       " '\"Argelia\",\"Hofbauer\",\"Medical Productions\",\"5 Columbia\",\"North Vancouver\",\"BC\",\"V7J 2J9\",\"604-823-2881\",\"604-904-3459\",\"argelia.hofbauer@cox.net\",\"http://www.medicalproductions.com\"',\n",
       " '\"Janna\",\"Bastain\",\"Hastings, Robert R Jr\",\"41 Drive  Hwy 54s S\",\"Vancouver\",\"BC\",\"V6N 3C5\",\"604-575-7837\",\"604-519-7671\",\"janna@bastain.com\",\"http://www.hastingsrobertrjr.com\"',\n",
       " '\"Hildegarde\",\"Wehrwein\",\"Ocean State Rental Corp\",\"2 Cottman Ave\",\"West Vancouver\",\"BC\",\"V7T 1R7\",\"604-960-7463\",\"604-475-5636\",\"hwehrwein@gmail.com\",\"http://www.oceanstaterentalcorp.com\"',\n",
       " '\"Kaycee\",\"Alaibilla\",\"A & H Sptc Systems & Matl Inc\",\"8788 E 64th Ave\",\"Vancouver\",\"BC\",\"V6R 1N3\",\"604-992-6045\",\"604-609-6898\",\"kaycee.alaibilla@yahoo.com\",\"http://www.ahsptcsystemsmatlinc.com\"',\n",
       " '\"Luisa\",\"Harnish\",\"Level Export Sales Corp\",\"82 Westminster Blvd\",\"Vancouver\",\"BC\",\"V5X 2B5\",\"604-399-1449\",\"604-967-7334\",\"lharnish@harnish.com\",\"http://www.levelexportsalescorp.com\"',\n",
       " '\"Mindy\",\"Presnal\",\"Gavin, William H Esq\",\"82 Us Highway 111\",\"Vancouver\",\"BC\",\"V5X 3K2\",\"604-213-8721\",\"604-936-4293\",\"mpresnal@yahoo.com\",\"http://www.gavinwilliamhesq.com\"',\n",
       " '\"Jannette\",\"Pedder\",\"Reif, W Michael Esq\",\"73 Madison Ave\",\"Vancouver\",\"BC\",\"V6L 2V9\",\"604-953-5335\",\"604-889-3061\",\"jpedder@pedder.com\",\"http://www.reifwmichaelesq.com\"',\n",
       " '\"Vallie\",\"Nigl\",\"Can Lines Inc\",\"7823 N 36th Ave\",\"North Vancouver\",\"BC\",\"V7H 2J2\",\"604-848-3170\",\"604-272-7228\",\"vallie@yahoo.com\",\"http://www.canlinesinc.com\"',\n",
       " '\"Nickie\",\"Balonek\",\"Mcinerney Communications\",\"7 Saint Nicholas Ave\",\"North Vancouver\",\"BC\",\"V7J 3P8\",\"604-556-1080\",\"604-408-3115\",\"nickie.balonek@balonek.com\",\"http://www.mcinerneycommunications.com\"',\n",
       " '\"Brandon\",\"Geigel\",\"Royal Title Service Inc\",\"70 W Main St\",\"Vancouver\",\"BC\",\"V5Z 3S8\",\"604-940-9313\",\"604-894-9406\",\"bgeigel@gmail.com\",\"http://www.royaltitleserviceinc.com\"',\n",
       " '\"Bettina\",\"Vosmus\",\"Willamette Valley Walnuts Inc\",\"7 Ryan Industrial Ct\",\"Vancouver\",\"BC\",\"V6H 3Y2\",\"604-752-9256\",\"604-539-9088\",\"bettina@hotmail.com\",\"http://www.willamettevalleywalnutsinc.com\"',\n",
       " '\"Giovanna\",\"Bacho\",\"Rumford Aquarium Inc\",\"71 S Newtown St\",\"North Vancouver\",\"BC\",\"V7M 3J6\",\"604-203-8085\",\"604-451-5124\",\"giovanna@cox.net\",\"http://www.rumfordaquariuminc.com\"',\n",
       " '\"Maynard\",\"Zufall\",\"Larkin, Jay Robert Esq\",\"5094 Poway Rd\",\"Vancouver\",\"BC\",\"V5X 4K1\",\"604-875-7745\",\"604-708-6687\",\"mzufall@gmail.com\",\"http://www.larkinjayrobertesq.com\"',\n",
       " '\"Shakira\",\"Westervelt\",\"Buena Clerk\",\"5470 N Lamar Blvd #542\",\"North Vancouver\",\"BC\",\"V7J 2J9\",\"604-991-8721\",\"604-514-6251\",\"swestervelt@westervelt.org\",\"http://www.buenaclerk.com\"']"
      ]
     },
     "execution_count": 14,
     "metadata": {},
     "output_type": "execute_result"
    }
   ],
   "source": [
    "keyword = 'Vancouver'\n",
    "\n",
    "# for line in get_lines_with_keyword(filename, keyword):\n",
    "#     print(line)\n",
    "    \n",
    "list(get_lines_with_keyword(filename, keyword))\n"
   ]
  },
  {
   "cell_type": "code",
   "execution_count": 15,
   "metadata": {},
   "outputs": [],
   "source": [
    "def get_lines_with_keyword(filename, keyword):\n",
    "    with open(filename) as f:\n",
    "        headers = f.readline().rstrip('\\n').strip('\"').split('\",\"')\n",
    "        print(headers)\n",
    "        for line in f:\n",
    "            cols = line.rstrip('\\n').strip('\"').split('\",\"')\n",
    "            d = dict(zip(headers, cols))\n",
    "            if keyword in line:\n",
    "                yield d['first_name'], d['last_name'], d['city']"
   ]
  },
  {
   "cell_type": "code",
   "execution_count": 16,
   "metadata": {},
   "outputs": [
    {
     "name": "stdout",
     "output_type": "stream",
     "text": [
      "['first_name', 'last_name', 'company_name', 'address', 'city', 'province', 'postal', 'phone1', 'phone2', 'email', 'web']\n"
     ]
    },
    {
     "data": {
      "text/plain": [
       "[('Hannah', 'Edmison', 'Vancouver'),\n",
       " ('Lauryn', 'Randol', 'North Vancouver'),\n",
       " ('Argelia', 'Hofbauer', 'North Vancouver'),\n",
       " ('Janna', 'Bastain', 'Vancouver'),\n",
       " ('Hildegarde', 'Wehrwein', 'West Vancouver'),\n",
       " ('Kaycee', 'Alaibilla', 'Vancouver'),\n",
       " ('Luisa', 'Harnish', 'Vancouver'),\n",
       " ('Mindy', 'Presnal', 'Vancouver'),\n",
       " ('Jannette', 'Pedder', 'Vancouver'),\n",
       " ('Vallie', 'Nigl', 'North Vancouver'),\n",
       " ('Nickie', 'Balonek', 'North Vancouver'),\n",
       " ('Brandon', 'Geigel', 'Vancouver'),\n",
       " ('Bettina', 'Vosmus', 'Vancouver'),\n",
       " ('Giovanna', 'Bacho', 'North Vancouver'),\n",
       " ('Maynard', 'Zufall', 'Vancouver'),\n",
       " ('Shakira', 'Westervelt', 'North Vancouver')]"
      ]
     },
     "execution_count": 16,
     "metadata": {},
     "output_type": "execute_result"
    }
   ],
   "source": [
    "list(get_lines_with_keyword(filename, keyword))"
   ]
  },
  {
   "cell_type": "markdown",
   "metadata": {},
   "source": [
    "### using standard library csv"
   ]
  },
  {
   "cell_type": "code",
   "execution_count": 17,
   "metadata": {},
   "outputs": [],
   "source": [
    "import csv"
   ]
  },
  {
   "cell_type": "code",
   "execution_count": 18,
   "metadata": {},
   "outputs": [],
   "source": [
    "def get_lines_with_keyword(filename, keyword):\n",
    "    with open(filename) as f:\n",
    "        reader = csv.DictReader(f, delimiter=',', quotechar='\"')\n",
    "        for d in reader:\n",
    "            if keyword in d['city']:\n",
    "                yield d['first_name'], d['last_name'], d['city']"
   ]
  },
  {
   "cell_type": "code",
   "execution_count": 19,
   "metadata": {},
   "outputs": [
    {
     "data": {
      "text/plain": [
       "[('Hannah', 'Edmison', 'Vancouver'),\n",
       " ('Lauryn', 'Randol', 'North Vancouver'),\n",
       " ('Argelia', 'Hofbauer', 'North Vancouver'),\n",
       " ('Janna', 'Bastain', 'Vancouver'),\n",
       " ('Hildegarde', 'Wehrwein', 'West Vancouver'),\n",
       " ('Kaycee', 'Alaibilla', 'Vancouver'),\n",
       " ('Luisa', 'Harnish', 'Vancouver'),\n",
       " ('Mindy', 'Presnal', 'Vancouver'),\n",
       " ('Jannette', 'Pedder', 'Vancouver'),\n",
       " ('Vallie', 'Nigl', 'North Vancouver'),\n",
       " ('Nickie', 'Balonek', 'North Vancouver'),\n",
       " ('Brandon', 'Geigel', 'Vancouver'),\n",
       " ('Bettina', 'Vosmus', 'Vancouver'),\n",
       " ('Giovanna', 'Bacho', 'North Vancouver'),\n",
       " ('Maynard', 'Zufall', 'Vancouver'),\n",
       " ('Shakira', 'Westervelt', 'North Vancouver')]"
      ]
     },
     "execution_count": 19,
     "metadata": {},
     "output_type": "execute_result"
    }
   ],
   "source": [
    "list(get_lines_with_keyword(filename, keyword))"
   ]
  }
 ],
 "metadata": {
  "kernelspec": {
   "display_name": "Python 3",
   "language": "python",
   "name": "python3"
  },
  "language_info": {
   "codemirror_mode": {
    "name": "ipython",
    "version": 3
   },
   "file_extension": ".py",
   "mimetype": "text/x-python",
   "name": "python",
   "nbconvert_exporter": "python",
   "pygments_lexer": "ipython3",
   "version": "3.6.5"
  }
 },
 "nbformat": 4,
 "nbformat_minor": 2
}
