{
 "cells": [
  {
   "cell_type": "markdown",
   "metadata": {},
   "source": [
    "# My First Notebook"
   ]
  },
  {
   "cell_type": "code",
   "execution_count": 11,
   "metadata": {},
   "outputs": [
    {
     "name": "stdout",
     "output_type": "stream",
     "text": [
      "Peter\n"
     ]
    }
   ],
   "source": [
    "name = \"Peter\"\n",
    "print(name)"
   ]
  },
  {
   "cell_type": "code",
   "execution_count": 12,
   "metadata": {},
   "outputs": [],
   "source": [
    "?"
   ]
  },
  {
   "cell_type": "code",
   "execution_count": 14,
   "metadata": {},
   "outputs": [
    {
     "data": {
      "text/plain": [
       "'/Users/peter/Computrain/InCompany/Europese Commisie/Python Data Science/Notebooks'"
      ]
     },
     "execution_count": 14,
     "metadata": {},
     "output_type": "execute_result"
    }
   ],
   "source": [
    "%pwd"
   ]
  },
  {
   "cell_type": "code",
   "execution_count": 16,
   "metadata": {},
   "outputs": [
    {
     "name": "stdout",
     "output_type": "stream",
     "text": [
      "\u001b[31mDemo Functions.ipynb\u001b[m\u001b[m                   \u001b[31mNumpy Slicing.ipynb\u001b[m\u001b[m\r\n",
      "\u001b[31mDemo GeoPandas.ipynb\u001b[m\u001b[m                   \u001b[31mPandas Read CSV.ipynb\u001b[m\u001b[m\r\n",
      "\u001b[31mDemo Matplotlib.ipynb\u001b[m\u001b[m                  \u001b[31mPandas ca-500.ipynb\u001b[m\u001b[m\r\n",
      "\u001b[31mDemo Notebook.ipynb\u001b[m\u001b[m                    \u001b[31mPandas read ca-500.ipynb\u001b[m\u001b[m\r\n",
      "\u001b[31mDemo Numpy Array.ipynb\u001b[m\u001b[m                 \u001b[31mPandas reindex.ipynb\u001b[m\u001b[m\r\n",
      "\u001b[31mDemo Pandas Dataframe.ipynb\u001b[m\u001b[m            \u001b[31mPandas4Eng.ipynb\u001b[m\u001b[m\r\n",
      "\u001b[31mDemo Pandas Series.ipynb\u001b[m\u001b[m               \u001b[31mPython Recap.ipynb\u001b[m\u001b[m\r\n",
      "\u001b[31mDemo Python Basics.ipynb\u001b[m\u001b[m               \u001b[31mRead JSON Csaba.ipynb\u001b[m\u001b[m\r\n",
      "\u001b[31mDemo Scipy.ipynb\u001b[m\u001b[m                       \u001b[31mRequests to openweathermap.ipynb\u001b[m\u001b[m\r\n",
      "\u001b[31mDemo read_sql to Access database.ipynb\u001b[m\u001b[m \u001b[31mSeaborn - Pokemon.ipynb\u001b[m\u001b[m\r\n",
      "\u001b[31mDemo seaborn.ipynb\u001b[m\u001b[m                     \u001b[31mUntitled.ipynb\u001b[m\u001b[m\r\n",
      "\u001b[31mDemo.ipynb\u001b[m\u001b[m                             \u001b[31mUntitled1.ipynb\u001b[m\u001b[m\r\n",
      "\u001b[31mDocuMath.ipynb\u001b[m\u001b[m                         \u001b[31mUntitled3.ipynb\u001b[m\u001b[m\r\n",
      "First Demo.ipynb                       \u001b[31mUntitled4.ipynb\u001b[m\u001b[m\r\n",
      "\u001b[31mGeoPandas - Hello World.ipynb\u001b[m\u001b[m          \u001b[31mboxplot_vs_violin.ipynb\u001b[m\u001b[m\r\n",
      "\u001b[31mImage tutorial.ipynb\u001b[m\u001b[m                   \u001b[31mcsv DictReader.ipynb\u001b[m\u001b[m\r\n",
      "\u001b[31mNobel Prize.ipynb\u001b[m\u001b[m                      \u001b[30m\u001b[43mdatasets\u001b[m\u001b[m\r\n",
      "\u001b[31mNumpy Broadcasting.ipynb\u001b[m\u001b[m               \u001b[30m\u001b[43mimages\u001b[m\u001b[m\r\n",
      "\u001b[31mNumpy Random.ipynb\u001b[m\u001b[m\r\n"
     ]
    }
   ],
   "source": [
    "!ls"
   ]
  },
  {
   "cell_type": "code",
   "execution_count": 6,
   "metadata": {},
   "outputs": [
    {
     "data": {
      "text/plain": [
       "'/Users/peter/Computrain/InCompany/Europese Commisie/Python Data Science/Notebooks'"
      ]
     },
     "execution_count": 6,
     "metadata": {},
     "output_type": "execute_result"
    }
   ],
   "source": [
    "%pwd"
   ]
  },
  {
   "cell_type": "code",
   "execution_count": 7,
   "metadata": {},
   "outputs": [
    {
     "name": "stdout",
     "output_type": "stream",
     "text": [
      "name = \"Peter\"\n",
      "print(name)\n",
      "?\n",
      "%%pwd\n",
      "%pwd\n",
      "%rep 4\n",
      "%pwd\n",
      "history\n"
     ]
    }
   ],
   "source": [
    "history"
   ]
  },
  {
   "cell_type": "code",
   "execution_count": 8,
   "metadata": {},
   "outputs": [
    {
     "name": "stdout",
     "output_type": "stream",
     "text": [
      "   1:\n",
      "name = \"Peter\"\n",
      "print(name)\n",
      "   2: ?\n",
      "   3: %%pwd\n",
      "   4: %pwd\n",
      "   5: %rep 4\n",
      "   6: %pwd\n",
      "   7: history\n",
      "   8: history -n\n"
     ]
    }
   ],
   "source": [
    "history -n"
   ]
  },
  {
   "cell_type": "code",
   "execution_count": 9,
   "metadata": {},
   "outputs": [],
   "source": [
    "%rep 7"
   ]
  },
  {
   "cell_type": "code",
   "execution_count": 10,
   "metadata": {},
   "outputs": [
    {
     "name": "stdout",
     "output_type": "stream",
     "text": [
      "name = \"Peter\"\n",
      "print(name)\n",
      "?\n",
      "%%pwd\n",
      "%pwd\n",
      "%rep 4\n",
      "%pwd\n",
      "history\n",
      "history -n\n",
      "%rep 7\n",
      "history\n"
     ]
    }
   ],
   "source": [
    "history"
   ]
  },
  {
   "cell_type": "code",
   "execution_count": null,
   "metadata": {},
   "outputs": [],
   "source": []
  }
 ],
 "metadata": {
  "kernelspec": {
   "display_name": "Python 3",
   "language": "python",
   "name": "python3"
  },
  "language_info": {
   "codemirror_mode": {
    "name": "ipython",
    "version": 3
   },
   "file_extension": ".py",
   "mimetype": "text/x-python",
   "name": "python",
   "nbconvert_exporter": "python",
   "pygments_lexer": "ipython3",
   "version": "3.6.5"
  }
 },
 "nbformat": 4,
 "nbformat_minor": 2
}
