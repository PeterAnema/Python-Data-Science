{
 "cells": [
  {
   "cell_type": "markdown",
   "metadata": {},
   "source": [
    "# Demo Numpy Array"
   ]
  },
  {
   "cell_type": "code",
   "execution_count": 1,
   "metadata": {},
   "outputs": [],
   "source": [
    "import numpy as np"
   ]
  },
  {
   "cell_type": "code",
   "execution_count": 55,
   "metadata": {},
   "outputs": [
    {
     "name": "stdout",
     "output_type": "stream",
     "text": [
      "[0.0, 0.5, 1.0, 1.5, 2.0, 2.5, 3.0, 3.5, 4.0, 4.5, 5.0]\n",
      "array([0. , 0.5, 1. , 1.5, 2. , 2.5, 3. , 3.5, 4. , 4.5, 5. ])\n",
      "dtype: float64\n",
      "ndim: 1\n",
      "shape: (11,)\n"
     ]
    }
   ],
   "source": [
    "l = [x/2 for x in range(11)]\n",
    "print(l)\n",
    "df1 = np.array(l)\n",
    "print(repr(df1))\n",
    "print('dtype: %s' % df1.dtype)\n",
    "print('ndim: %d' % df1.ndim)\n",
    "print('shape: %s' % repr(df1.shape))"
   ]
  },
  {
   "cell_type": "code",
   "execution_count": 59,
   "metadata": {},
   "outputs": [
    {
     "name": "stdout",
     "output_type": "stream",
     "text": [
      "[0.0, 0.5, 1.0, 1.5, 2.0, 2.5, 3.0, 3.5, 4.0, 4.5, 5.0]\n"
     ]
    }
   ],
   "source": [
    "l = []\n",
    "for n in range(11):\n",
    "    l.append(n/2.0)\n",
    "print(l)"
   ]
  },
  {
   "cell_type": "code",
   "execution_count": 7,
   "metadata": {},
   "outputs": [
    {
     "name": "stdout",
     "output_type": "stream",
     "text": [
      "array([0. , 0.5, 1. , 1.5, 2. , 2.5, 3. , 3.5, 4. , 4.5, 5. ])\n"
     ]
    }
   ],
   "source": [
    "df2 = np.arange(0, 5.5, 0.5)\n",
    "print(repr(df2))"
   ]
  },
  {
   "cell_type": "code",
   "execution_count": 8,
   "metadata": {},
   "outputs": [
    {
     "name": "stdout",
     "output_type": "stream",
     "text": [
      "array([0. , 0.5, 1. , 1.5, 2. , 2.5, 3. , 3.5, 4. , 4.5, 5. ])\n"
     ]
    }
   ],
   "source": [
    "df3 = np.linspace(0, 5.0, 11)\n",
    "print(repr(df3))"
   ]
  },
  {
   "cell_type": "markdown",
   "metadata": {},
   "source": [
    "### Element wise arithmetic"
   ]
  },
  {
   "cell_type": "code",
   "execution_count": 9,
   "metadata": {},
   "outputs": [
    {
     "name": "stdout",
     "output_type": "stream",
     "text": [
      "[ 6  8 10]\n"
     ]
    }
   ],
   "source": [
    "a = np.array([1,2,3])\n",
    "b = np.array([5,6,7])\n",
    "c = a + b\n",
    "print(c)"
   ]
  },
  {
   "cell_type": "markdown",
   "metadata": {},
   "source": [
    "### Vectorized functions"
   ]
  },
  {
   "cell_type": "code",
   "execution_count": 64,
   "metadata": {},
   "outputs": [
    {
     "name": "stdout",
     "output_type": "stream",
     "text": [
      "[0 1 2 3 4 5 6 7 8 9]\n",
      "[False False False False False False  True  True  True  True]\n"
     ]
    }
   ],
   "source": [
    "a = np.arange(10)\n",
    "print(a)\n",
    "b = a > 5\n",
    "print(b)"
   ]
  },
  {
   "cell_type": "code",
   "execution_count": 66,
   "metadata": {},
   "outputs": [
    {
     "name": "stdout",
     "output_type": "stream",
     "text": [
      "[0 1 2 3 4 5 6 7 8 9]\n",
      "[0.  0.5 1.  1.5 2.  2.5 3.  3.5 4.  4.5]\n",
      "[ 0.   1.5  3.   4.5  6.   7.5  9.  10.5 12.  13.5]\n"
     ]
    }
   ],
   "source": [
    "a = np.arange(10)\n",
    "b = np.arange(10) / 2\n",
    "print(a)\n",
    "print(b)\n",
    "c = a + b\n",
    "print(c)"
   ]
  },
  {
   "cell_type": "code",
   "execution_count": 79,
   "metadata": {},
   "outputs": [],
   "source": [
    "x = np.linspace(0.1, 100, 1000)\n",
    "y = np.sin(x)/x\n",
    "y2 = y / 2"
   ]
  },
  {
   "cell_type": "code",
   "execution_count": 85,
   "metadata": {},
   "outputs": [
    {
     "data": {
      "image/png": "[encoded data removed]",
      "text/plain": [
       "<matplotlib.figure.Figure at 0x11d05acc0>"
      ]
     },
     "metadata": {},
     "output_type": "display_data"
    }
   ],
   "source": [
    "import matplotlib.pyplot as plt\n",
    "%matplotlib inline\n",
    "\n",
    "plt.plot(x,y)\n",
    "plt.plot(x,y2)\n",
    "plt.show()"
   ]
  },
  {
   "cell_type": "code",
   "execution_count": 90,
   "metadata": {},
   "outputs": [
    {
     "data": {
      "text/plain": [
       "<function matplotlib.pyplot.show>"
      ]
     },
     "execution_count": 90,
     "metadata": {},
     "output_type": "execute_result"
    },
    {
     "data": {
      "image/png": "[encoded data removed]",
      "text/plain": [
       "<matplotlib.figure.Figure at 0x11d37cc88>"
      ]
     },
     "metadata": {},
     "output_type": "display_data"
    }
   ],
   "source": [
    "x = np.linspace(-1000, 1000, 1000)\n",
    "f = np.polynomial.polynomial.Polynomial((-100, 3, 0.1, 100))\n",
    "y = f(x)\n",
    "\n",
    "plt.plot(x,y1)\n",
    "plt.show"
   ]
  },
  {
   "cell_type": "code",
   "execution_count": null,
   "metadata": {},
   "outputs": [],
   "source": []
  },
  {
   "cell_type": "markdown",
   "metadata": {},
   "source": [
    "### Shape"
   ]
  },
  {
   "cell_type": "code",
   "execution_count": 124,
   "metadata": {},
   "outputs": [
    {
     "name": "stdout",
     "output_type": "stream",
     "text": [
      "[[0. 0. 0. 0. 0. 0. 0. 0.]\n",
      " [0. 0. 0. 0. 0. 0. 0. 0.]\n",
      " [0. 0. 0. 0. 0. 0. 0. 0.]\n",
      " [0. 0. 0. 0. 0. 0. 0. 0.]]\n",
      "float64\n"
     ]
    }
   ],
   "source": [
    "m = np.zeros((4,8), float)\n",
    "print(m)\n",
    "print(m.dtype)"
   ]
  },
  {
   "cell_type": "code",
   "execution_count": 112,
   "metadata": {},
   "outputs": [
    {
     "name": "stdout",
     "output_type": "stream",
     "text": [
      "[[1. 2. 3.]\n",
      " [4. 5. 6.]\n",
      " [7. 8. 9.]]\n"
     ]
    }
   ],
   "source": [
    "m = np.arange(1, 10, dtype=np.float64).reshape(3,3)\n",
    "print(m)"
   ]
  },
  {
   "cell_type": "code",
   "execution_count": 165,
   "metadata": {},
   "outputs": [
    {
     "name": "stdout",
     "output_type": "stream",
     "text": [
      "[[[2 1 1 6]\n",
      "  [2 7 7 6]\n",
      "  [7 3 5 3]\n",
      "  [8 4 7 4]]\n",
      "\n",
      " [[7 2 3 4]\n",
      "  [1 8 2 6]\n",
      "  [8 6 2 6]\n",
      "  [4 1 5 7]]\n",
      "\n",
      " [[3 6 5 4]\n",
      "  [5 8 5 3]\n",
      "  [1 2 1 7]\n",
      "  [5 6 3 6]]\n",
      "\n",
      " [[8 5 5 6]\n",
      "  [2 8 1 2]\n",
      "  [1 7 5 3]\n",
      "  [1 6 4 3]]]\n"
     ]
    }
   ],
   "source": [
    "m = np.random.randint(1,9,64).reshape(4,4,4)\n",
    "print(m)"
   ]
  },
  {
   "cell_type": "code",
   "execution_count": 166,
   "metadata": {},
   "outputs": [
    {
     "name": "stdout",
     "output_type": "stream",
     "text": [
      "[[[2 1]\n",
      "  [2 7]]\n",
      "\n",
      " [[7 2]\n",
      "  [1 8]]]\n",
      "(2, 2, 2)\n"
     ]
    }
   ],
   "source": [
    "subm = m[:2,:2,:2]\n",
    "print(subm)\n",
    "print(subm.shape)"
   ]
  },
  {
   "cell_type": "code",
   "execution_count": 167,
   "metadata": {},
   "outputs": [
    {
     "name": "stdout",
     "output_type": "stream",
     "text": [
      "[9 9 4 8 8 1 5 3 6 3]\n",
      "[ 0 -5  4  0 -7  4 -2  3 -3]\n"
     ]
    }
   ],
   "source": [
    "np.random.seed(100)\n",
    "a = np.random.randint(1,10,10)\n",
    "print(a)\n",
    "a3 = a[1:] - a[:-1]\n",
    "print(a3)"
   ]
  },
  {
   "cell_type": "code",
   "execution_count": 176,
   "metadata": {},
   "outputs": [
    {
     "name": "stdout",
     "output_type": "stream",
     "text": [
      "[[[2 1 1 6]\n",
      "  [2 7 7 6]\n",
      "  [7 3 5 3]\n",
      "  [8 4 7 4]]\n",
      "\n",
      " [[7 2 3 4]\n",
      "  [1 8 2 6]\n",
      "  [8 6 2 6]\n",
      "  [4 1 5 7]]\n",
      "\n",
      " [[3 6 5 4]\n",
      "  [5 8 5 3]\n",
      "  [1 2 1 7]\n",
      "  [5 6 3 6]]\n",
      "\n",
      " [[8 5 5 6]\n",
      "  [2 8 1 2]\n",
      "  [1 7 5 3]\n",
      "  [1 6 4 3]]]\n",
      "[[[6 1 1 2]\n",
      "  [6 7 7 2]\n",
      "  [3 5 3 7]\n",
      "  [4 7 4 8]]\n",
      "\n",
      " [[4 3 2 7]\n",
      "  [6 2 8 1]\n",
      "  [6 2 6 8]\n",
      "  [7 5 1 4]]\n",
      "\n",
      " [[4 5 6 3]\n",
      "  [3 5 8 5]\n",
      "  [7 1 2 1]\n",
      "  [6 3 6 5]]\n",
      "\n",
      " [[6 5 5 8]\n",
      "  [2 1 8 2]\n",
      "  [3 5 7 1]\n",
      "  [3 4 6 1]]]\n"
     ]
    }
   ],
   "source": [
    "print(m)\n",
    "print(m[:,:,[3,2,1,0]])"
   ]
  },
  {
   "cell_type": "code",
   "execution_count": 185,
   "metadata": {},
   "outputs": [
    {
     "name": "stdout",
     "output_type": "stream",
     "text": [
      "[0 1 2 3 4 5 6 7 8 9]\n",
      "[1 2 3 4 5 6 7 8]\n",
      "[ 0  1  2  3 99  5  6  7  8  9]\n",
      "[1 2 3 4 5 6 7 8]\n"
     ]
    }
   ],
   "source": [
    "a = np.arange(10)\n",
    "print(a)\n",
    "b = a[1:-1].copy()\n",
    "print(b)\n",
    "a[4] = 99\n",
    "print(a)\n",
    "print(b)"
   ]
  },
  {
   "cell_type": "code",
   "execution_count": 195,
   "metadata": {},
   "outputs": [
    {
     "name": "stdout",
     "output_type": "stream",
     "text": [
      "[8 2 6 4 1 7 3 4 5 9]\n",
      "[0 1 2 3 4 5 6 7 8 9]\n"
     ]
    },
    {
     "data": {
      "text/plain": [
       "array([0, 2, 2, 4, 1, 5, 3, 4, 5, 9])"
      ]
     },
     "execution_count": 195,
     "metadata": {},
     "output_type": "execute_result"
    }
   ],
   "source": [
    "a = np.random.randint(1,10,10)\n",
    "b = np.arange(10)\n",
    "print(a)\n",
    "print(b)\n",
    "np.where(a>5, b, a)"
   ]
  },
  {
   "cell_type": "code",
   "execution_count": 221,
   "metadata": {},
   "outputs": [
    {
     "name": "stdout",
     "output_type": "stream",
     "text": [
      "[False  True False False False  True False  True  True False]\n",
      "[ True False False False  True False  True False False]\n",
      "3\n"
     ]
    }
   ],
   "source": [
    "np.random.seed(200)\n",
    "z = np.random.choice([False, True], size=10)\n",
    "print(z)\n",
    "t = np.logical_and( np.logical_not(z[:-1]), z[1:] )\n",
    "print(t)\n",
    "n = t.sum()\n",
    "n = (z[:-1] < z[1:]).sum()\n",
    "print(n)"
   ]
  },
  {
   "cell_type": "code",
   "execution_count": 226,
   "metadata": {},
   "outputs": [
    {
     "name": "stdout",
     "output_type": "stream",
     "text": [
      "[-0.12032434  0.52964066 -0.02615513  0.26900105 -0.86923929  1.27186338\n",
      " -0.01231281 -0.26572854 -0.50239708 -0.03190136]\n",
      "0.024244654073166404\n",
      "0.553133076347869\n",
      "0.24244654073166405\n",
      "-0.8692392940963484\n",
      "1.271863384002635\n",
      "[-0.12032434  0.40931632  0.38316119  0.65216224 -0.21707705  1.05478633\n",
      "  1.04247352  0.77674498  0.2743479   0.24244654]\n"
     ]
    }
   ],
   "source": [
    "a = np.random.randn(10)\n",
    "print(a)\n",
    "print(a.mean())\n",
    "print(a.std())\n",
    "print(a.sum())\n",
    "print(a.min())\n",
    "print(a.max())\n",
    "print(a.cumsum())"
   ]
  },
  {
   "cell_type": "code",
   "execution_count": 163,
   "metadata": {},
   "outputs": [
    {
     "name": "stdout",
     "output_type": "stream",
     "text": [
      "[[-0.46402358 -0.05702664  0.27592974  1.49451522  0.56682064 -2.30337426]\n",
      " [ 1.37700072 -1.18738682  0.07939305  0.10796863  0.5069511   1.12558936]\n",
      " [-1.00805248  0.35482923 -0.70266818  0.11345113 -1.0411337  -0.68659935]\n",
      " [-2.55944758  0.94631055  0.79067165  0.68000189  0.71660582  0.47770485]]\n",
      "\n",
      " [-0.66363073  0.01418158  0.11083157  0.59898422  0.18731096 -0.34666985]\n",
      "\n",
      " [-0.08119315  0.33491934 -0.49502889  0.17530786]\n"
     ]
    }
   ],
   "source": [
    "m = np.random.randn(4,6)\n",
    "print(m)\n",
    "\n",
    "mean_of_columns = m.mean(axis=0)\n",
    "print('\\n', mean_of_columns)\n",
    "\n",
    "mean_of_rows = m.mean(axis=1)\n",
    "print('\\n', mean_of_rows)"
   ]
  },
  {
   "cell_type": "code",
   "execution_count": 44,
   "metadata": {},
   "outputs": [
    {
     "name": "stdout",
     "output_type": "stream",
     "text": [
      "[[ 1.85809466 -0.15042145  2.60391516  4.76669667  4.66913781  5.17977641]\n",
      " [ 1.91807135  1.54119248  3.87419488  3.87815177  6.10849208  6.39910681]\n",
      " [ 1.06039142  3.5258394   2.84923567  4.00726994  6.00855661  4.83088677]\n",
      " [ 1.24647837  1.3303114   3.49168373  3.81101025  5.46298342  6.82982418]]\n",
      "\n",
      " [1.52075895 1.56173046 3.20475736 4.11578216 5.56229248 5.80989855]\n",
      "\n",
      " [3.15453321 3.95320156 3.71369664 3.69538189]\n"
     ]
    }
   ],
   "source": [
    "m = np.random.randn(4,6) + [1,2,3,4,5,6]\n",
    "print(m)\n",
    "\n",
    "mean_of_columns = m.mean(axis=0)\n",
    "print('\\n', mean_of_columns)\n",
    "\n",
    "mean_of_rows = m.mean(axis=1)\n",
    "print('\\n', mean_of_rows)"
   ]
  },
  {
   "cell_type": "code",
   "execution_count": 49,
   "metadata": {},
   "outputs": [
    {
     "name": "stdout",
     "output_type": "stream",
     "text": [
      "[[ 3.48616231 -0.50357565  1.59273977  1.0235701   0.60175865  2.4524018 ]\n",
      " [ 0.35310344  3.81789813  1.30974695  2.0754158   2.22686524  2.75901094]\n",
      " [ 3.82846969  3.27853773  3.93988196  4.26497364  2.44973054  3.95651176]\n",
      " [ 3.53946232  3.08311774  4.28727067  4.1924678   4.22453289  3.89728038]]\n",
      "\n",
      " [2.80179944 2.41899449 2.78240984 2.88910684 2.37572183 3.26630122]\n",
      "\n",
      " [1.44217616 2.09034008 3.61968422 3.87068864]\n"
     ]
    }
   ],
   "source": [
    "m = np.random.randn(4,6) + [[1],[2],[3],[4]]\n",
    "print(m)\n",
    "\n",
    "mean_of_columns = m.mean(axis=0)\n",
    "print('\\n', mean_of_columns)\n",
    "\n",
    "mean_of_rows = m.mean(axis=1)\n",
    "print('\\n', mean_of_rows)"
   ]
  },
  {
   "cell_type": "code",
   "execution_count": 99,
   "metadata": {},
   "outputs": [
    {
     "name": "stdout",
     "output_type": "stream",
     "text": [
      "[1 2 3 4]\n",
      "[5 6 7 8]\n",
      "[[1 2 3 4]\n",
      " [5 6 7 8]]\n",
      "[5 6 7 8]\n",
      "8\n",
      "8\n",
      "(2, 4)\n"
     ]
    }
   ],
   "source": [
    "a = np.array([1,2,3,4])\n",
    "b = np.array([5,6,7,8])\n",
    "print(a)\n",
    "print(b)\n",
    "c = np.array([[1,2,3,4],[5,6,7,8]])\n",
    "print(c)\n",
    "print(c[1])\n",
    "print(c[1][3])\n",
    "print(c[1,3])\n",
    "print(c.shape)"
   ]
  },
  {
   "cell_type": "code",
   "execution_count": 106,
   "metadata": {},
   "outputs": [
    {
     "name": "stdout",
     "output_type": "stream",
     "text": [
      "[[[ 1  2  3]\n",
      "  [ 4  5  6]\n",
      "  [ 7  8  9]]\n",
      "\n",
      " [[11 12 13]\n",
      "  [14 15 16]\n",
      "  [17 18 19]]\n",
      "\n",
      " [[21 22 23]\n",
      "  [24 25 26]\n",
      "  [27 28 29]]]\n",
      "26\n",
      "[24 25 26]\n"
     ]
    }
   ],
   "source": [
    "d = np.array([[[1,2,3],[4,5,6],[7,8,9]],[[11,12,13],[14,15,16],[17,18,19]],[[21,22,23],[24,25,26],[27,28,29]]])\n",
    "print(d)\n",
    "print(d[2,1,2])\n",
    "print(d[2,1])"
   ]
  },
  {
   "cell_type": "code",
   "execution_count": 108,
   "metadata": {},
   "outputs": [
    {
     "data": {
      "text/plain": [
       "array([[[ 0,  1,  2],\n",
       "        [ 3,  4,  5],\n",
       "        [ 6,  7,  8],\n",
       "        [ 9, 10, 11]],\n",
       "\n",
       "       [[12, 13, 14],\n",
       "        [15, 16, 17],\n",
       "        [18, 19, 20],\n",
       "        [21, 22, 23]],\n",
       "\n",
       "       [[24, 25, 26],\n",
       "        [27, 28, 29],\n",
       "        [30, 31, 32],\n",
       "        [33, 34, 35]]])"
      ]
     },
     "execution_count": 108,
     "metadata": {},
     "output_type": "execute_result"
    }
   ],
   "source": [
    "np.arange(36).reshape(3,4,3)"
   ]
  },
  {
   "cell_type": "code",
   "execution_count": 234,
   "metadata": {},
   "outputs": [
    {
     "name": "stdout",
     "output_type": "stream",
     "text": [
      "[[-0.50590983 -0.28568158 -0.24245434 -1.80454096  1.21844711 -0.17631224\n",
      "   0.93496922 -0.87749239]\n",
      " [ 0.43917055 -0.72363161  0.96004561 -2.27990629 -0.14934719 -1.98778303\n",
      "   0.51056533 -1.65636897]\n",
      " [ 1.04659126 -0.63052395 -1.07994315  0.41488321 -1.2440491  -0.54474875\n",
      "  -0.23769901  1.17731119]\n",
      " [-1.20540424  0.75722785 -0.21057851 -1.25940893  0.59524369  1.46850092\n",
      "  -0.83205341  0.45290657]] \n",
      "\n",
      "-0.24868671740745074\n",
      "0.9973544449629909\n",
      "[-0.21737188 -0.61090695 -0.13727229 -0.02919576]\n",
      "[-0.05638807 -0.22065232 -0.1432326  -1.23224324  0.10507363 -0.31008578\n",
      "  0.09394553 -0.2259109 ]\n",
      "\n",
      " [[-0.25790542 -0.037093    0.00624891 -1.55998126  1.47102551  0.07256645\n",
      "   1.18679567 -0.63047362]\n",
      " [ 0.68968186 -0.47620472  1.21193858 -2.03660753  0.09960304 -1.7437094\n",
      "   0.76126602 -1.41141623]\n",
      " [ 1.29871379 -0.38285008 -0.8334614   0.6653301  -0.99800266 -0.29684736\n",
      "   0.01101685  1.42978047]\n",
      " [-0.95925529  1.00858283  0.03820929 -1.01340322  0.846169    1.7217426\n",
      "  -0.58491411  0.70345432]]\n"
     ]
    }
   ],
   "source": [
    "data = np.random.randn(4,8)\n",
    "print(data, '\\n')\n",
    "\n",
    "mean_all = data.mean()\n",
    "std_all = data.std()\n",
    "\n",
    "means_rows = data.mean(axis=1)\n",
    "means_columns = data.mean(axis=0)\n",
    "\n",
    "print(mean_all)\n",
    "print(std_all)\n",
    "print(means_rows)\n",
    "print(means_columns)\n",
    "\n",
    "z = (data - mean_all) / std_all\n",
    "\n",
    "print('\\n', z)"
   ]
  },
  {
   "cell_type": "code",
   "execution_count": 242,
   "metadata": {},
   "outputs": [
    {
     "name": "stdout",
     "output_type": "stream",
     "text": [
      "[[ 1  2  3  4  5]\n",
      " [ 6  7  8  9 10]]\n",
      "\n",
      " [[11 22 33 44 55]\n",
      " [16 27 38 49 60]]\n"
     ]
    }
   ],
   "source": [
    "a = np.array([[1,2,3,4,5],[6,7,8,9,10]])\n",
    "print(a)\n",
    "b = a + np.array([10,20,30,40,50])\n",
    "print('\\n', b)"
   ]
  }
 ],
 "metadata": {
  "kernelspec": {
   "display_name": "Python 3",
   "language": "python",
   "name": "python3"
  },
  "language_info": {
   "codemirror_mode": {
    "name": "ipython",
    "version": 3
   },
   "file_extension": ".py",
   "mimetype": "text/x-python",
   "name": "python",
   "nbconvert_exporter": "python",
   "pygments_lexer": "ipython3",
   "version": "3.6.4"
  }
 },
 "nbformat": 4,
 "nbformat_minor": 2
}
